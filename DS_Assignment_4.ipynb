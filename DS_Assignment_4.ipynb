{
  "nbformat": 4,
  "nbformat_minor": 0,
  "metadata": {
    "colab": {
      "provenance": []
    },
    "kernelspec": {
      "name": "python3",
      "display_name": "Python 3"
    },
    "language_info": {
      "name": "python"
    }
  },
  "cells": [
    {
      "cell_type": "code",
      "execution_count": 9,
      "metadata": {
        "id": "_mVKST7GyzUt"
      },
      "outputs": [],
      "source": [
        "#Q1\n",
        "\n",
        "arr1 = [1,2,3,4,5]\n",
        "arr2 = [1,2,5,7,9]\n",
        "arr3 = [1,3,4,5,8]\n",
        "class Solution:\n",
        "    def arraysIntersection(self, arr1,arr2,arr3):\n",
        "        return sorted(set(arr1) & set(arr2) & set(arr3))"
      ]
    },
    {
      "cell_type": "code",
      "source": [
        "#Q2\n",
        "nums1 = [1,2,3]\n",
        "nums2 = [2,4,6]\n",
        "class Solution:\n",
        "  def findDifference(self, nums1, nums2):\n",
        "    set1 = set(nums1)\n",
        "    set2 = set(nums2)\n",
        "    return [set1 - set2, set2 - set1]"
      ],
      "metadata": {
        "id": "WFkSzICHzlir"
      },
      "execution_count": 6,
      "outputs": []
    },
    {
      "cell_type": "code",
      "source": [
        "#Q3\n",
        "class Solution:\n",
        "    def transpose(self, A):\n",
        "        B = [[0]*len(A) for _ in range(len(A[0]))]\n",
        "        for i in range((len(A))):\n",
        "            for j in range((len(A[0]))):\n",
        "                B[j][i] = A[i][j]\n",
        "        return(B)"
      ],
      "metadata": {
        "id": "zsLB1-v-0exZ"
      },
      "execution_count": 11,
      "outputs": []
    },
    {
      "cell_type": "code",
      "source": [
        "#Q4\n",
        "\n",
        "nums = [1,4,3,2]\n",
        "class Solution:\n",
        "    def arrayPairSum(self, nums):\n",
        "        nums.sort()\n",
        "        r=0\n",
        "        for i in range(0,len(nums),2):\n",
        "            r+=min(nums[i],nums[i+1])\n",
        "        return(r)"
      ],
      "metadata": {
        "id": "19rltQ00zx95"
      },
      "execution_count": 13,
      "outputs": []
    },
    {
      "cell_type": "code",
      "source": [
        "#Q7\n",
        "m = 3\n",
        "n = 3\n",
        "ops = [[2,2],[3,3]]\n",
        "class Solution:\n",
        "    def maxCount(self, m, n, ops):\n",
        "        length = len(ops)\n",
        "        if length == 0:\n",
        "            return m*n\n",
        "        result = [ops[0][0] , ops[0][1]]\n",
        "        for i in range(1,length):\n",
        "            result[0] = min(result[0] , ops[i][0])\n",
        "            result[1] = min(result[1] , ops[i][1])\n",
        "        return result[0]*result[1]"
      ],
      "metadata": {
        "id": "tsJzgkIy5K3k"
      },
      "execution_count": 14,
      "outputs": []
    },
    {
      "cell_type": "code",
      "source": [],
      "metadata": {
        "id": "kCCsDvFo5nwB"
      },
      "execution_count": null,
      "outputs": []
    }
  ]
}